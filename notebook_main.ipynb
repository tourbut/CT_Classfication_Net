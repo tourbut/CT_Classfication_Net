{
 "cells": [
  {
   "cell_type": "code",
   "execution_count": 1,
   "metadata": {},
   "outputs": [],
   "source": [
    "import os\n",
    "import datetime\n",
    "import torch\n",
    "import torch.nn as nn\n",
    "from torch.utils.data import DataLoader\n",
    "import pandas as pd\n",
    "import numpy as np\n",
    "import random\n",
    "\n",
    "import dataloader\n",
    "import utils\n",
    "from model import generate_model\n",
    "from optimizer import Adam,SGD\n",
    "from train_wrapper import train_epoch"
   ]
  },
  {
   "cell_type": "code",
   "execution_count": 2,
   "metadata": {},
   "outputs": [],
   "source": [
    "config = utils.load_config()"
   ]
  },
  {
   "cell_type": "code",
   "execution_count": 3,
   "metadata": {},
   "outputs": [],
   "source": [
    "#seed 고정\n",
    "\n",
    "seed = config['seed']\n",
    "random.seed(seed)\n",
    "os.environ['PYTHONHASHSEED'] = str(seed)\n",
    "np.random.seed(seed)\n",
    "torch.manual_seed(seed)\n",
    "torch.cuda.manual_seed(seed)\n",
    "torch.backends.cudnn.deterministic = True\n",
    "torch.backends.cudnn.benchmark = True    "
   ]
  },
  {
   "cell_type": "code",
   "execution_count": 7,
   "metadata": {},
   "outputs": [],
   "source": [
    "#Dataset load\n",
    "X_train = pd.read_csv(config['DATASET']['TRAIN']).drop(labels='label',axis=1)\n",
    "X_test = pd.read_csv(config['DATASET']['TEST']).drop(labels='label',axis=1)\n",
    "y_train = pd.read_csv(config['DATASET']['TRAIN'])['label']\n",
    "y_test = pd.read_csv(config['DATASET']['TEST'])['label']"
   ]
  },
  {
   "cell_type": "code",
   "execution_count": null,
   "metadata": {},
   "outputs": [],
   "source": [
    "batch_size = config['dataloader']['batch_size']\n",
    "num_workers = config['dataloader']['num_workers']\n",
    "learning_rate = config['train']['learning_rate']\n",
    "epochs = config['train']['epochs']\n",
    "\n",
    "model_name = config['model']['model_name']\n",
    "model_depth = config['model']['model_depth']\n",
    "config['save_datetime'] = datetime.datetime.now().strftime(\"%Y%m%d_%H%M\")"
   ]
  },
  {
   "cell_type": "code",
   "execution_count": null,
   "metadata": {},
   "outputs": [],
   "source": [
    "traindata=dataloader.CTDataset(X_train,y_train)\n",
    "testdata=dataloader.CTDataset(X_test,y_test)\n",
    "\n",
    "train_dataloader = DataLoader(traindata , batch_size=batch_size, shuffle=True, sampler = None, num_workers=num_workers,pin_memory = True)\n",
    "test_dataloader = DataLoader(testdata , batch_size=batch_size, shuffle=False, num_workers=num_workers, pin_memory = True)"
   ]
  },
  {
   "cell_type": "code",
   "execution_count": null,
   "metadata": {},
   "outputs": [],
   "source": [
    "device = torch.device(\"cuda:0\" if torch.cuda.is_available() else \"cpu\")\n",
    "print(device)\n",
    "\n",
    "model, _ = generate_model(model_name=model_name,model_depth = model_depth,n_classes=2,resnet_shortcut='B',add_last_fc_num = 0)\n",
    "model.to(device)\n",
    "\n",
    "#패러럴 Train 미사용\n",
    "if torch.cuda.is_available() and config['parallel'] == 1:\n",
    "    model = nn.DataParallel(model, device_ids = config['gpus'])\n",
    "    model.to(device)\n",
    "    \n",
    "optimizer = Adam(model, learning_rate = learning_rate)\n",
    "criterion_clf = nn.CrossEntropyLoss().to(device)"
   ]
  },
  {
   "cell_type": "code",
   "execution_count": null,
   "metadata": {},
   "outputs": [],
   "source": [
    "utils.save_messgage(config\n",
    "                    , model_name=model_name, model_depth = model_depth, n_classes=2, resnet_shortcut='B'\n",
    "                    , optimizer = 'Adam', lr=learning_rate, criterion_clf='CrossEntropyLoss'\n",
    "                    , message='비고')\n",
    "\n",
    "train_epoch(device,train_dataloader,test_dataloader,test_dataloader,model,criterion_clf,optimizer,config,epoch = epochs,num_classes=2)"
   ]
  },
  {
   "cell_type": "code",
   "execution_count": null,
   "metadata": {},
   "outputs": [],
   "source": [
    "#사용한 config 파일 복사\n",
    "utils.copy_config(config)"
   ]
  },
  {
   "cell_type": "code",
   "execution_count": null,
   "metadata": {},
   "outputs": [],
   "source": [
    "%%javascript\n",
    "Jupyter.notebook.session.delete();"
   ]
  }
 ],
 "metadata": {
  "kernelspec": {
   "display_name": "Python 3.10.7 ('pymain': venv)",
   "language": "python",
   "name": "python3"
  },
  "language_info": {
   "codemirror_mode": {
    "name": "ipython",
    "version": 3
   },
   "file_extension": ".py",
   "mimetype": "text/x-python",
   "name": "python",
   "nbconvert_exporter": "python",
   "pygments_lexer": "ipython3",
   "version": "3.10.7"
  },
  "orig_nbformat": 4,
  "vscode": {
   "interpreter": {
    "hash": "9505ef627af6220152965c2d08f672d4cb1c6e7dfcbb3c78c3906b0b60f7fde3"
   }
  }
 },
 "nbformat": 4,
 "nbformat_minor": 2
}
