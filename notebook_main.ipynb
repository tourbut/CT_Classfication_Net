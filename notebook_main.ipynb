{
 "cells": [
  {
   "cell_type": "code",
   "execution_count": 1,
   "metadata": {},
   "outputs": [
    {
     "name": "stderr",
     "output_type": "stream",
     "text": [
      "d:\\MyGit\\CT_Classfication_Net\\pymain\\lib\\site-packages\\tqdm\\auto.py:22: TqdmWarning: IProgress not found. Please update jupyter and ipywidgets. See https://ipywidgets.readthedocs.io/en/stable/user_install.html\n",
      "  from .autonotebook import tqdm as notebook_tqdm\n"
     ]
    }
   ],
   "source": [
    "import os\n",
    "import datetime\n",
    "import torch\n",
    "import torch.nn as nn\n",
    "from torch.utils.data import DataLoader\n",
    "import pandas as pd\n",
    "import numpy as np\n",
    "import random\n",
    "\n",
    "import dataloader\n",
    "import utils\n",
    "from model import generate_model\n",
    "from optimizer import Adam,SGD\n",
    "from train_wrapper import train_epoch"
   ]
  },
  {
   "cell_type": "code",
   "execution_count": 2,
   "metadata": {},
   "outputs": [],
   "source": [
    "config = utils.load_config()"
   ]
  },
  {
   "cell_type": "code",
   "execution_count": 3,
   "metadata": {},
   "outputs": [],
   "source": [
    "#seed 고정\n",
    "\n",
    "seed = config['seed']\n",
    "random.seed(seed)\n",
    "os.environ['PYTHONHASHSEED'] = str(seed)\n",
    "np.random.seed(seed)\n",
    "torch.manual_seed(seed)\n",
    "torch.cuda.manual_seed(seed)\n",
    "torch.backends.cudnn.deterministic = True\n",
    "torch.backends.cudnn.benchmark = True\n",
    "    "
   ]
  },
  {
   "cell_type": "code",
   "execution_count": 13,
   "metadata": {},
   "outputs": [],
   "source": [
    "df_dataset = pd.read_csv(config['DATASET_PATH'])\n",
    "df_dataset = df_dataset.dropna().reset_index(drop=True)\n",
    "\n",
    "from sklearn.model_selection import train_test_split\n",
    "X = df_dataset.drop(labels='label',axis=1)\n",
    "Y = df_dataset['label']\n",
    "np.random.seed(1004)\n",
    "X_train,X_test,y_train,y_test = train_test_split(X,Y,test_size=0.2,shuffle=True,stratify=None)"
   ]
  },
  {
   "cell_type": "code",
   "execution_count": 14,
   "metadata": {},
   "outputs": [
    {
     "data": {
      "text/html": [
       "<div>\n",
       "<style scoped>\n",
       "    .dataframe tbody tr th:only-of-type {\n",
       "        vertical-align: middle;\n",
       "    }\n",
       "\n",
       "    .dataframe tbody tr th {\n",
       "        vertical-align: top;\n",
       "    }\n",
       "\n",
       "    .dataframe thead th {\n",
       "        text-align: right;\n",
       "    }\n",
       "</style>\n",
       "<table border=\"1\" class=\"dataframe\">\n",
       "  <thead>\n",
       "    <tr style=\"text-align: right;\">\n",
       "      <th></th>\n",
       "      <th>filename</th>\n",
       "      <th>path</th>\n",
       "    </tr>\n",
       "  </thead>\n",
       "  <tbody>\n",
       "    <tr>\n",
       "      <th>41</th>\n",
       "      <td>Dataset_normal_0000070_000000000000070_3.nii</td>\n",
       "      <td>Dataset/Normal/Dataset_normal_0000070_00000000...</td>\n",
       "    </tr>\n",
       "    <tr>\n",
       "      <th>475</th>\n",
       "      <td>Dataset_abnormal_0000286_000000000000286_3.nii</td>\n",
       "      <td>Dataset/Abnormal/Dataset_abnormal_0000286_0000...</td>\n",
       "    </tr>\n",
       "    <tr>\n",
       "      <th>159</th>\n",
       "      <td>Dataset_normal_0000252_000000000000252_3.nii</td>\n",
       "      <td>Dataset/Normal/Dataset_normal_0000252_00000000...</td>\n",
       "    </tr>\n",
       "    <tr>\n",
       "      <th>383</th>\n",
       "      <td>Dataset_abnormal_0000192_000000000000192_3.nii</td>\n",
       "      <td>Dataset/Abnormal/Dataset_abnormal_0000192_0000...</td>\n",
       "    </tr>\n",
       "    <tr>\n",
       "      <th>259</th>\n",
       "      <td>Dataset_abnormal_0000067_000000000000067_3.nii</td>\n",
       "      <td>Dataset/Abnormal/Dataset_abnormal_0000067_0000...</td>\n",
       "    </tr>\n",
       "    <tr>\n",
       "      <th>...</th>\n",
       "      <td>...</td>\n",
       "      <td>...</td>\n",
       "    </tr>\n",
       "    <tr>\n",
       "      <th>239</th>\n",
       "      <td>Dataset_abnormal_0000047_000000000000047_3.nii</td>\n",
       "      <td>Dataset/Abnormal/Dataset_abnormal_0000047_0000...</td>\n",
       "    </tr>\n",
       "    <tr>\n",
       "      <th>325</th>\n",
       "      <td>Dataset_abnormal_0000134_000000000000134_3.nii</td>\n",
       "      <td>Dataset/Abnormal/Dataset_abnormal_0000134_0000...</td>\n",
       "    </tr>\n",
       "    <tr>\n",
       "      <th>31</th>\n",
       "      <td>Dataset_normal_0000053_000000000000053_3.nii</td>\n",
       "      <td>Dataset/Normal/Dataset_normal_0000053_00000000...</td>\n",
       "    </tr>\n",
       "    <tr>\n",
       "      <th>11</th>\n",
       "      <td>Dataset_normal_0000019_000000000000019_3.nii</td>\n",
       "      <td>Dataset/Normal/Dataset_normal_0000019_00000000...</td>\n",
       "    </tr>\n",
       "    <tr>\n",
       "      <th>2</th>\n",
       "      <td>Dataset_normal_0000007_000000000000007_3.nii</td>\n",
       "      <td>Dataset/Normal/Dataset_normal_0000007_00000000...</td>\n",
       "    </tr>\n",
       "  </tbody>\n",
       "</table>\n",
       "<p>392 rows × 2 columns</p>\n",
       "</div>"
      ],
      "text/plain": [
       "                                           filename  \\\n",
       "41     Dataset_normal_0000070_000000000000070_3.nii   \n",
       "475  Dataset_abnormal_0000286_000000000000286_3.nii   \n",
       "159    Dataset_normal_0000252_000000000000252_3.nii   \n",
       "383  Dataset_abnormal_0000192_000000000000192_3.nii   \n",
       "259  Dataset_abnormal_0000067_000000000000067_3.nii   \n",
       "..                                              ...   \n",
       "239  Dataset_abnormal_0000047_000000000000047_3.nii   \n",
       "325  Dataset_abnormal_0000134_000000000000134_3.nii   \n",
       "31     Dataset_normal_0000053_000000000000053_3.nii   \n",
       "11     Dataset_normal_0000019_000000000000019_3.nii   \n",
       "2      Dataset_normal_0000007_000000000000007_3.nii   \n",
       "\n",
       "                                                  path  \n",
       "41   Dataset/Normal/Dataset_normal_0000070_00000000...  \n",
       "475  Dataset/Abnormal/Dataset_abnormal_0000286_0000...  \n",
       "159  Dataset/Normal/Dataset_normal_0000252_00000000...  \n",
       "383  Dataset/Abnormal/Dataset_abnormal_0000192_0000...  \n",
       "259  Dataset/Abnormal/Dataset_abnormal_0000067_0000...  \n",
       "..                                                 ...  \n",
       "239  Dataset/Abnormal/Dataset_abnormal_0000047_0000...  \n",
       "325  Dataset/Abnormal/Dataset_abnormal_0000134_0000...  \n",
       "31   Dataset/Normal/Dataset_normal_0000053_00000000...  \n",
       "11   Dataset/Normal/Dataset_normal_0000019_00000000...  \n",
       "2    Dataset/Normal/Dataset_normal_0000007_00000000...  \n",
       "\n",
       "[392 rows x 2 columns]"
      ]
     },
     "execution_count": 14,
     "metadata": {},
     "output_type": "execute_result"
    }
   ],
   "source": [
    "X_train"
   ]
  },
  {
   "cell_type": "code",
   "execution_count": null,
   "metadata": {},
   "outputs": [],
   "source": [
    "batch_size = config['dataloader']['batch_size']\n",
    "num_workers = config['dataloader']['num_workers']\n",
    "learning_rate = config['train']['learning_rate']\n",
    "epochs = config['train']['epochs']\n",
    "\n",
    "model_name = config['model']['model_name']\n",
    "model_depth = config['model']['model_depth']\n",
    "config['save_datetime'] = datetime.datetime.now().strftime(\"%Y%m%d_%H%M\")"
   ]
  },
  {
   "cell_type": "code",
   "execution_count": null,
   "metadata": {},
   "outputs": [],
   "source": [
    "traindata=dataloader.CTDataset(X_train,y_train)\n",
    "testdata=dataloader.CTDataset(X_test,y_test)\n",
    "\n",
    "train_dataloader = DataLoader(traindata , batch_size=batch_size, shuffle=True, sampler = None, num_workers=num_workers,pin_memory = True)\n",
    "test_dataloader = DataLoader(testdata , batch_size=batch_size, shuffle=False, num_workers=num_workers, pin_memory = True)"
   ]
  },
  {
   "cell_type": "code",
   "execution_count": null,
   "metadata": {},
   "outputs": [],
   "source": [
    "device = torch.device(\"cuda:0\" if torch.cuda.is_available() else \"cpu\")\n",
    "print(device)\n",
    "\n",
    "model, _ = generate_model(model_name=model_name,model_depth = model_depth,n_classes=2,resnet_shortcut='B',add_last_fc_num = 0)\n",
    "model.to(device)\n",
    "\n",
    "#패러럴 Train 미사용\n",
    "#if torch.cuda.is_available():\n",
    "#    model = nn.DataParallel(model, device_ids = [0,1,2,3])\n",
    "#    model.to(device)\n",
    "    \n",
    "optimizer = Adam(model, learning_rate = learning_rate)\n",
    "criterion_clf = nn.CrossEntropyLoss().to(device)"
   ]
  },
  {
   "cell_type": "code",
   "execution_count": null,
   "metadata": {},
   "outputs": [],
   "source": [
    "utils.save_messgage(config\n",
    "                    , model_name=model_name, model_depth = model_depth, n_classes=2, resnet_shortcut='B'\n",
    "                    , optimizer = 'Adam', lr=learning_rate, criterion_clf='CrossEntropyLoss'\n",
    "                    , message='비고')\n",
    "\n",
    "train_epoch(device,train_dataloader,test_dataloader,test_dataloader,model,criterion_clf,optimizer,config,epoch = epochs,num_classes=2)"
   ]
  }
 ],
 "metadata": {
  "kernelspec": {
   "display_name": "Python 3.10.7 ('pymain': venv)",
   "language": "python",
   "name": "python3"
  },
  "language_info": {
   "codemirror_mode": {
    "name": "ipython",
    "version": 3
   },
   "file_extension": ".py",
   "mimetype": "text/x-python",
   "name": "python",
   "nbconvert_exporter": "python",
   "pygments_lexer": "ipython3",
   "version": "3.10.7"
  },
  "orig_nbformat": 4,
  "vscode": {
   "interpreter": {
    "hash": "9505ef627af6220152965c2d08f672d4cb1c6e7dfcbb3c78c3906b0b60f7fde3"
   }
  }
 },
 "nbformat": 4,
 "nbformat_minor": 2
}
