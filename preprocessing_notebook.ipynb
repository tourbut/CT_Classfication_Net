{
 "cells": [
  {
   "cell_type": "code",
   "execution_count": null,
   "metadata": {},
   "outputs": [],
   "source": [
    "import pandas as pd\n",
    "import utils\n",
    "import os\n",
    "import dataloader"
   ]
  },
  {
   "cell_type": "code",
   "execution_count": null,
   "metadata": {},
   "outputs": [],
   "source": [
    "Dataset_path = 'Dataset/Sample/'\n",
    "file_name ='Dataset_abnormal_0000292_000000000000292_2.nii'\n",
    "full_path = os.path.join(Dataset_path,file_name)\n",
    "config = utils.load_config()"
   ]
  },
  {
   "cell_type": "code",
   "execution_count": null,
   "metadata": {},
   "outputs": [],
   "source": [
    "path = config['DATASET_PATH']\n",
    "normal_path = os.path.join(path,'Normal')\n",
    "abnormal_path = os.path.join(path,'Abnormal')"
   ]
  },
  {
   "cell_type": "code",
   "execution_count": null,
   "metadata": {},
   "outputs": [],
   "source": [
    "x_normal = os.listdir(normal_path)\n",
    "x_abnormal = os.listdir(abnormal_path)\n"
   ]
  },
  {
   "cell_type": "code",
   "execution_count": null,
   "metadata": {},
   "outputs": [],
   "source": [
    "labels = []\n",
    "for i in range(len(x_normal)):\n",
    "    x_normal[i] = os.path.join(normal_path,x_normal[i])\n",
    "    labels.append(0)\n",
    "    \n",
    "for i in range(len(x_abnormal)):\n",
    "    x_abnormal[i] = os.path.join(abnormal_path,x_abnormal[i])\n",
    "    labels.append(1)\n",
    "\n",
    "x = x_normal+x_abnormal"
   ]
  },
  {
   "cell_type": "code",
   "execution_count": null,
   "metadata": {},
   "outputs": [],
   "source": [
    "x"
   ]
  },
  {
   "cell_type": "code",
   "execution_count": null,
   "metadata": {},
   "outputs": [],
   "source": [
    "ctdataset = dataloader.CTDataset(x,labels)"
   ]
  },
  {
   "cell_type": "code",
   "execution_count": null,
   "metadata": {},
   "outputs": [],
   "source": [
    "img,label = ctdataset.__getitem__(0)"
   ]
  },
  {
   "cell_type": "code",
   "execution_count": null,
   "metadata": {},
   "outputs": [],
   "source": [
    "utils.stack_plot(img[0,:,:,:])"
   ]
  },
  {
   "cell_type": "code",
   "execution_count": null,
   "metadata": {},
   "outputs": [],
   "source": [
    "import dataloader\n",
    "import pandas as pd\n",
    "import utils\n",
    "import numpy as np\n",
    "from scipy import ndimage"
   ]
  },
  {
   "cell_type": "code",
   "execution_count": null,
   "metadata": {},
   "outputs": [],
   "source": [
    "config = utils.load_config()"
   ]
  },
  {
   "cell_type": "code",
   "execution_count": null,
   "metadata": {},
   "outputs": [],
   "source": [
    "df_dataset = pd.read_csv(config['PATH_DATASET_CSV'])\n",
    "df_dataset = df_dataset.dropna()\n",
    "img_dataset = dataloader.load_dataset(df_dataset[:10],preprocess=False)"
   ]
  },
  {
   "cell_type": "code",
   "execution_count": null,
   "metadata": {},
   "outputs": [],
   "source": [
    "utils.stack_plot(img_dataset[0])"
   ]
  },
  {
   "cell_type": "code",
   "execution_count": null,
   "metadata": {},
   "outputs": [],
   "source": [
    "img_dataset[0]"
   ]
  },
  {
   "cell_type": "code",
   "execution_count": null,
   "metadata": {},
   "outputs": [],
   "source": [
    "#image crop\n",
    "sample_image = img_dataset[0][:,:,110]\n",
    "utils.image_plot(sample_image)\n",
    "print(sample_image.max())"
   ]
  },
  {
   "cell_type": "code",
   "execution_count": null,
   "metadata": {},
   "outputs": [],
   "source": [
    "image = sample_image / sample_image.max()\n",
    "utils.image_plot(image)\n",
    "print(image.max())"
   ]
  },
  {
   "cell_type": "code",
   "execution_count": 12,
   "metadata": {},
   "outputs": [
    {
     "ename": "NameError",
     "evalue": "name 'sample_image' is not defined",
     "output_type": "error",
     "traceback": [
      "\u001b[1;31m---------------------------------------------------------------------------\u001b[0m",
      "\u001b[1;31mNameError\u001b[0m                                 Traceback (most recent call last)",
      "Cell \u001b[1;32mIn [12], line 1\u001b[0m\n\u001b[1;32m----> 1\u001b[0m \u001b[43msample_image\u001b[49m[:,\u001b[38;5;241m120\u001b[39m]\n",
      "\u001b[1;31mNameError\u001b[0m: name 'sample_image' is not defined"
     ]
    }
   ],
   "source": [
    "sample_image[:,120]"
   ]
  },
  {
   "cell_type": "code",
   "execution_count": null,
   "metadata": {},
   "outputs": [],
   "source": [
    "def crop_images(image, display=False):\n",
    "    # Create a mask with the background pixels\n",
    "    mask = image == 0\n",
    "    # Find the brain area\n",
    "    coords = np.array(np.nonzero(~mask))\n",
    "    top_left = np.min(coords, axis=1)\n",
    "    bottom_right = np.max(coords, axis=1)\n",
    "    # Remove the background\n",
    "    croped_image = image[top_left[0]:bottom_right[0],top_left[1]:bottom_right[1],top_left[2]:bottom_right[2]]\n",
    "    \n",
    "    return croped_image\n",
    "\n",
    "def crop_image(image, display=False):\n",
    "    # Create a mask with the background pixels\n",
    "    mask = image == 0\n",
    "    # Find the brain area\n",
    "    coords = np.array(np.nonzero(~mask))\n",
    "    top_left = np.min(coords, axis=1)\n",
    "    bottom_right = np.max(coords, axis=1)\n",
    "    # Remove the background\n",
    "    croped_image = image[top_left[0]:bottom_right[0],top_left[1]:bottom_right[1]]\n",
    "    \n",
    "    return croped_image\n",
    "\n",
    "\n",
    "def add_pad(image, pad_top = 10,pad_left = 10,pad_depth=10):\n",
    "    \n",
    "    height, width, depth = image.shape\n",
    "    new_height = height + pad_top*2\n",
    "    new_width = width + pad_left*2\n",
    "    new_depth = depth + pad_depth*2\n",
    "    final_image = np.zeros((new_height, new_width, new_depth))\n",
    "    final_image[pad_top:pad_top + height, pad_left:pad_left + width,pad_depth:depth + pad_depth] = image\n",
    "    \n",
    "    return final_image\n",
    "\n",
    "\n",
    "def resize(img,desired_width=128,desired_height=128,desired_depth=128):\n",
    "\n",
    "    current_depth = img.shape[-1]\n",
    "    current_width = img.shape[0]\n",
    "    current_height = img.shape[1]\n",
    "    # Compute depth factor\n",
    "    depth = current_depth / desired_depth\n",
    "    width = current_width / desired_width\n",
    "    height = current_height / desired_height\n",
    "    depth_factor = 1 / depth \n",
    "    width_factor = 1 / width \n",
    "    height_factor = 1 / height\n",
    "    # Rotate\n",
    "    #img = ndimage.rotate(img, 90, reshape=False)\n",
    "    # Resize across z-axis\n",
    "    img = ndimage.zoom(img, (width_factor, height_factor, depth_factor), order=1)\n",
    "\n",
    "    return img\n",
    "\n",
    "def window_image(image, window_center, window_width):\n",
    "    img_min = window_center - window_width // 2\n",
    "    img_max = window_center + window_width // 2\n",
    "    window_image = image.copy()\n",
    "    window_image[window_image < img_min] = img_min\n",
    "    window_image[window_image > img_max] = img_max\n",
    "    \n",
    "    return window_image\n",
    "\n",
    "def transform_to_hu(medical_image, image):\n",
    "    intercept = medical_image.RescaleIntercept\n",
    "    slope = medical_image.RescaleSlope\n",
    "    hu_image = image * slope + intercept\n",
    "\n",
    "    return hu_image\n",
    "\n",
    "def z_score(image):\n",
    "    \"\"\"\n",
    "    z-score nomalization\n",
    "    \"\"\"\n",
    "    mask_image = image>image.mean()\n",
    "    logical_mask = mask_image>0.\n",
    "    mean = image[logical_mask].mean()\n",
    "    std = image[logical_mask].std()\n",
    "    return (image-mean)/std\n",
    "\n",
    "def minmax(image):\n",
    "    \"\"\"\n",
    "    min-max nomalization\n",
    "    \"\"\"\n",
    "    min_value = np.min(image)\n",
    "    max_value = np.max(image)\n",
    "    output =  (image - min_value) / (max_value - min_value)\n",
    "    return output"
   ]
  },
  {
   "cell_type": "code",
   "execution_count": null,
   "metadata": {},
   "outputs": [],
   "source": [
    "import SimpleITK as sitk\n",
    "import numpy as np\n",
    "\n",
    "def resample(sitk_volume, new_spacing, new_size, default_value=0):\n",
    "    \"\"\"1) Create resampler\"\"\"\n",
    "    resample = sitk.ResampleImageFilter() \n",
    "    \n",
    "    \"\"\"2) Set parameters\"\"\"\n",
    "    #set interpolation method, output direction, default pixel value\n",
    "    resample.SetInterpolator(sitk.sitkLinear)\n",
    "    resample.SetOutputDirection(sitk_volume.GetDirection())\n",
    "    resample.SetDefaultPixelValue(default_value)\n",
    "    \n",
    "    #set output spacing\n",
    "    new_spacing = np.array(new_spacing)\n",
    "    resample.SetOutputSpacing(new_spacing)\n",
    "    \n",
    "    #set output size and origin\n",
    "    old_size = np.array(sitk_volume.GetSize())\n",
    "    old_spacing = np.array(sitk_volume.GetSpacing())\n",
    "    new_size_no_shift = np.int16(np.ceil(old_size*old_spacing/new_spacing))\n",
    "    old_origin = np.array(sitk_volume.GetOrigin())\n",
    "    \n",
    "    shift_amount = np.int16(np.floor((new_size_no_shift - new_size)/2))*new_spacing\n",
    "    new_origin = old_origin + shift_amount\n",
    "    \n",
    "    new_size = [int(s) for s in new_size]\n",
    "    resample.SetSize(new_size)\n",
    "    resample.SetOutputOrigin(new_origin)\n",
    "    \n",
    "    \"\"\"3) execute\"\"\"\n",
    "    new_volume = resample.Execute(sitk_volume)\n",
    "    return new_volume"
   ]
  },
  {
   "cell_type": "code",
   "execution_count": null,
   "metadata": {},
   "outputs": [],
   "source": [
    "sitk_t1 = sitk.ReadImage('Dataset/OASIS_BET/sub-OAS30001_sess-d0129_run-01_T1w.nii')\n",
    "\n",
    "maskImage = sitk.OtsuThreshold(sitk_t1,0,1,200)\n",
    "sitk.WriteImage(maskImage, \"test_mask.nii.gz\")\n",
    "inputImage = sitk.Cast(sitk_t1,sitk.sitkFloat32)\n",
    "\n",
    "corrector = sitk.N4BiasFieldCorrectionImageFilter();\n",
    "\n",
    "output = corrector.Execute(inputImage,maskImage)\n",
    "\n",
    "sitk.WriteImage(output,\"test.nii.gz\")"
   ]
  },
  {
   "cell_type": "code",
   "execution_count": null,
   "metadata": {},
   "outputs": [],
   "source": [
    "image_1 = sitk.GetArrayFromImage(sitk_t1)\n",
    "image_2 = sitk.GetArrayFromImage(output)"
   ]
  },
  {
   "cell_type": "code",
   "execution_count": null,
   "metadata": {},
   "outputs": [],
   "source": [
    "import matplotlib.pyplot as plt"
   ]
  },
  {
   "cell_type": "code",
   "execution_count": null,
   "metadata": {},
   "outputs": [],
   "source": [
    "plt.hist(image_2.ravel(),bins=10)"
   ]
  },
  {
   "cell_type": "code",
   "execution_count": null,
   "metadata": {},
   "outputs": [],
   "source": [
    "utils.stack_plot(image_1)"
   ]
  },
  {
   "cell_type": "code",
   "execution_count": null,
   "metadata": {},
   "outputs": [],
   "source": [
    "utils.stack_plot(image_2)"
   ]
  },
  {
   "cell_type": "code",
   "execution_count": null,
   "metadata": {},
   "outputs": [],
   "source": [
    "def N4():\n",
    "    print(\"N4 bias correction runs.\")\n",
    "    inputImage = sitk.ReadImage(\"06-t1c.nii.gz\")\n",
    "    # maskImage = sitk.ReadImage(\"06-t1c_mask.nii.gz\")\n",
    "    maskImage = sitk.OtsuThreshold(inputImage,0,1,200)\n",
    "    sitk.WriteImage(maskImage, \"06-t1c_mask3.nii.gz\")\n",
    "\n",
    "    inputImage = sitk.Cast(inputImage,sitk.sitkFloat32)\n",
    "\n",
    "    corrector = sitk.N4BiasFieldCorrectionImageFilter();\n",
    "\n",
    "    output = corrector.Execute(inputImage,maskImage)"
   ]
  },
  {
   "cell_type": "code",
   "execution_count": null,
   "metadata": {},
   "outputs": [],
   "source": [
    "sitk_t1.GetSpacing()"
   ]
  },
  {
   "cell_type": "code",
   "execution_count": null,
   "metadata": {},
   "outputs": [],
   "source": [
    "sitk_t1.GetSize()"
   ]
  },
  {
   "cell_type": "code",
   "execution_count": null,
   "metadata": {},
   "outputs": [],
   "source": [
    "sitk_t2 = resample(sitk_t1,(1,1,1),(256,256,256))"
   ]
  },
  {
   "cell_type": "code",
   "execution_count": null,
   "metadata": {},
   "outputs": [],
   "source": [
    "image = img_dataset[0]\n",
    "image = minmax(image)\n",
    "utils.stack_plot(image)"
   ]
  },
  {
   "cell_type": "code",
   "execution_count": null,
   "metadata": {},
   "outputs": [],
   "source": [
    "image = img_dataset[9]\n",
    "image = window_image(image,600,1200)\n",
    "image = crop_images(image)\n",
    "print(image.shape)\n",
    "image = add_pad(image)\n",
    "image = resize(image)\n",
    "image = minmax(image)\n",
    "print(image.shape)\n",
    "print(image.max())\n",
    "print(image.min())\n",
    "utils.stack_plot(image)"
   ]
  },
  {
   "cell_type": "code",
   "execution_count": null,
   "metadata": {},
   "outputs": [],
   "source": [
    "#image crop\n",
    "sample_image = img_dataset[0][:,:,110]\n",
    "sample_image_pre = crop_image(sample_image)\n",
    "print(sample_image.shape)\n",
    "print(sample_image_pre.shape)\n",
    "utils.image_plot(sample_image_pre)"
   ]
  }
 ],
 "metadata": {
  "kernelspec": {
   "display_name": "Python 3.10.7 ('pymain': venv)",
   "language": "python",
   "name": "python3"
  },
  "language_info": {
   "codemirror_mode": {
    "name": "ipython",
    "version": 3
   },
   "file_extension": ".py",
   "mimetype": "text/x-python",
   "name": "python",
   "nbconvert_exporter": "python",
   "pygments_lexer": "ipython3",
   "version": "3.10.7"
  },
  "orig_nbformat": 4,
  "vscode": {
   "interpreter": {
    "hash": "9505ef627af6220152965c2d08f672d4cb1c6e7dfcbb3c78c3906b0b60f7fde3"
   }
  }
 },
 "nbformat": 4,
 "nbformat_minor": 2
}
