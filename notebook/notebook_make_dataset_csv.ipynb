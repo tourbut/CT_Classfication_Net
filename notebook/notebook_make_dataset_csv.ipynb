{
 "cells": [
  {
   "cell_type": "code",
   "execution_count": 1,
   "metadata": {},
   "outputs": [],
   "source": [
    "import os\n",
    "import pandas as pd"
   ]
  },
  {
   "cell_type": "code",
   "execution_count": 2,
   "metadata": {},
   "outputs": [],
   "source": [
    "dir_path = '../Dataset/'"
   ]
  },
  {
   "cell_type": "code",
   "execution_count": 3,
   "metadata": {},
   "outputs": [],
   "source": [
    "normal_nii = os.listdir('../Dataset/Normal/')\n",
    "abnormal_nii = os.listdir('../Dataset/Abnormal/')\n",
    "df_normal = pd.DataFrame(normal_nii,columns=['filename'])\n",
    "df_abnormal = pd.DataFrame(abnormal_nii,columns=['filename'])"
   ]
  },
  {
   "cell_type": "code",
   "execution_count": 6,
   "metadata": {},
   "outputs": [],
   "source": [
    "df_normal['path'] = \"Dataset/Normal/\"+df_normal['filename']\n",
    "df_abnormal['path'] = \"Dataset/Abnormal/\"+df_abnormal['filename']"
   ]
  },
  {
   "cell_type": "code",
   "execution_count": 10,
   "metadata": {},
   "outputs": [],
   "source": [
    "df_normal['label'] = 0\n",
    "df_abnormal['label'] = 1"
   ]
  },
  {
   "cell_type": "code",
   "execution_count": 11,
   "metadata": {},
   "outputs": [],
   "source": [
    "df_dataset = pd.concat([df_normal,df_abnormal])"
   ]
  },
  {
   "cell_type": "code",
   "execution_count": 13,
   "metadata": {},
   "outputs": [],
   "source": [
    "df_dataset\n",
    "df_dataset.to_csv('../Dataset/Dataset.csv',index=False)"
   ]
  },
  {
   "cell_type": "code",
   "execution_count": null,
   "metadata": {},
   "outputs": [],
   "source": []
  }
 ],
 "metadata": {
  "kernelspec": {
   "display_name": "Python 3.10.7 ('pymain': venv)",
   "language": "python",
   "name": "python3"
  },
  "language_info": {
   "codemirror_mode": {
    "name": "ipython",
    "version": 3
   },
   "file_extension": ".py",
   "mimetype": "text/x-python",
   "name": "python",
   "nbconvert_exporter": "python",
   "pygments_lexer": "ipython3",
   "version": "3.10.7"
  },
  "orig_nbformat": 4,
  "vscode": {
   "interpreter": {
    "hash": "9505ef627af6220152965c2d08f672d4cb1c6e7dfcbb3c78c3906b0b60f7fde3"
   }
  }
 },
 "nbformat": 4,
 "nbformat_minor": 2
}
